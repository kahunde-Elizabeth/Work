{
 "cells": [
  {
   "cell_type": "markdown",
   "metadata": {},
   "source": [
    "KAHUNDE ELIZABETH B30293 S24B38/003"
   ]
  },
  {
   "cell_type": "markdown",
   "metadata": {},
   "source": [
    "Linear search algorithm, also known as sequential search algorithm, is a simple searching algorithm that traverses a list or array sequentially to find a target element. In Linear Search"
   ]
  },
  {
   "cell_type": "markdown",
   "metadata": {},
   "source": [
    "2. How does linear search algorithm work?\n",
    "\n",
    "Linear search algorithm iterates through each element in the list or array, comparing it with the target element until a match is found or the end of the list is reached. If the end of the list is reached, then it means that the target element is not present in the array."
   ]
  },
  {
   "cell_type": "markdown",
   "metadata": {},
   "source": [
    "Search Algorithm:\n",
    "\n",
    "Time Complexity:\n",
    "\n",
    "Best Case: In the best case, the key might be present at the first index. So the best case complexity is O(1)\n",
    "\n",
    "Worst Case: In the worst case, the key might be present at the last index i.e., opposite to the end from which the search has started in the list. \n",
    "So the worst-case complexity is O(N) where N is the size of the list.\n",
    "Average Case: O(N)"
   ]
  },
  {
   "cell_type": "markdown",
   "metadata": {},
   "source": [
    "BINARY SEARCH\n",
    "\n",
    "In a binary search, however, cut down your search to half as soon as you find the middle of a sorted list. The middle element is looked at to check if it is greater than or less than the value to be searched. \n",
    "\n"
   ]
  },
  {
   "cell_type": "markdown",
   "metadata": {},
   "source": [
    "Time Complexity: O(log n)\n",
    "\n",
    " – Binary search algorithm divides the input array in half at every step, reducing the search space by half, and hence has a time complexity of logarithmic order."
   ]
  },
  {
   "cell_type": "markdown",
   "metadata": {},
   "source": [
    "SORTING ALGORITHM"
   ]
  },
  {
   "cell_type": "markdown",
   "metadata": {},
   "source": [
    "A Sorting Algorithm is used to rearrange a given array or list of elements in an order.\n",
    "\n",
    "- Selection Sort\n",
    "\n",
    "Selection Sort is a comparison-based sorting algorithm. It sorts an array by repeatedly selecting the smallest (or largest) element from the unsorted portion and swapping it with the first unsorted element. This process continues until the entire array is sorted.\n",
    "\n",
    "First we find the smallest element and swap it with the first element. This way we get the smallest element at its correct position.\n",
    "\n",
    "Then we find the smallest among remaining elements (or second smallest) and swap it with the second element.\n",
    "\n",
    "We keep doing this until we get all elements moved to correct position."
   ]
  },
  {
   "cell_type": "markdown",
   "metadata": {},
   "source": [
    "Complexity Analysis of Selection Sort\n",
    "Time Complexity: O(n2) ,as there are two nested loops:\n",
    "\n",
    "One loop to select an element of Array one by one = O(n)\n",
    "\n",
    "Another loop to compare that element with every other Array element = O(n)\n",
    "\n",
    "Therefore overall complexity = O(n) * O(n) = O(n*n) = O(n2)"
   ]
  },
  {
   "cell_type": "markdown",
   "metadata": {},
   "source": [
    "Bubble Sort Algorithm\n",
    "\n",
    "\n",
    "Bubble Sort is the simplest sorting algorithm that works by repeatedly swapping the adjacent elements if they are in the wrong order.\n",
    "\n",
    "Basically how it works it swaps the places if the one on the left is bigger and wea are arranging from smallest to biggest.\n",
    "\n",
    "\n",
    "Bubble Sort is the simplest sorting algorithm that works by repeatedly swapping the adjacent elements if they are in the wrong order.\n",
    "\n",
    "\n"
   ]
  },
  {
   "cell_type": "markdown",
   "metadata": {},
   "source": [
    "Insertion sort is a simple sorting algorithm that works by iteratively inserting each element of an unsorted list into its correct position in a sorted portion of the list. \n",
    "\n",
    "It is like sorting playing cards in your hands. You split the cards into two groups: the sorted cards and the unsorted cards. Then, you pick a card from the unsorted group and put it in the right place in the sorted group."
   ]
  },
  {
   "cell_type": "markdown",
   "metadata": {},
   "source": [
    "Complexity Analysis of Insertion Sort :\n",
    "\n",
    "Time Complexity of Insertion Sort\n",
    "Best case: O(n), If the list is already sorted, where n is the number of elements in the list.\n",
    "\n",
    "Average case: O(n2), If the list is randomly ordered\n",
    "Worst case: O(n2), If the list is in reverse order\n",
    "Space Complexity of Insertion Sort\n",
    "Auxiliary Space: O(1), Insertion sort requires O(1) additional space, making it a space-efficient sorting algorithm."
   ]
  }
 ],
 "metadata": {
  "language_info": {
   "name": "python"
  }
 },
 "nbformat": 4,
 "nbformat_minor": 2
}
