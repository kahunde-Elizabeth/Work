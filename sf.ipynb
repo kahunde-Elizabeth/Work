{
 "cells": [
  {
   "cell_type": "code",
   "execution_count": 9,
   "metadata": {},
   "outputs": [
    {
     "name": "stdout",
     "output_type": "stream",
     "text": [
      "5\n"
     ]
    }
   ],
   "source": [
    "def fibonacci(n):\n",
    "    if n == 0:\n",
    "      return 0\n",
    "    elif n == 1:\n",
    "      return 1\n",
    "    else:\n",
    "        return fibonacci(n-1) + fibonacci(n-2)\n",
    "       \n",
    "print(fibonacci(5)) "
   ]
  },
  {
   "cell_type": "code",
   "execution_count": 10,
   "metadata": {},
   "outputs": [
    {
     "name": "stdout",
     "output_type": "stream",
     "text": [
      "295232799039604140847618609643520000000\n"
     ]
    }
   ],
   "source": [
    "def factorial(n):\n",
    "    if n==1:\n",
    "        return 1\n",
    "    return n* factorial(n-1)# The number multpiled by the one less than it\n",
    "print (factorial(34))#34,33,31,30,29 and therest multplied together"
   ]
  },
  {
   "cell_type": "code",
   "execution_count": 11,
   "metadata": {},
   "outputs": [
    {
     "name": "stdout",
     "output_type": "stream",
     "text": [
      "15\n"
     ]
    }
   ],
   "source": [
    "def sum_natural(n):\n",
    "    if n==0:\n",
    "        return 0\n",
    "    return n+ sum_natural(n-1)\n",
    "print(sum_natural(5))"
   ]
  },
  {
   "cell_type": "markdown",
   "metadata": {},
   "source": [
    "Linear Search"
   ]
  },
  {
   "cell_type": "code",
   "execution_count": 1,
   "metadata": {},
   "outputs": [
    {
     "name": "stdout",
     "output_type": "stream",
     "text": [
      "Element found at index 3\n"
     ]
    }
   ],
   "source": [
    "list=[4,5,6,7,2,8]\n",
    "target=7\n",
    "def linear_search(list,target):\n",
    "   for i in range(len(list)):\n",
    "     if list[i]==target:\n",
    "       return i\n",
    "   return -1\n",
    "\n",
    "result=linear_search(list,target)\n",
    "if result!=-1:\n",
    "  print(f\"Element found at index {result}\")\n",
    "else:\n",
    "  print(f\"Element not found\" )\n"
   ]
  },
  {
   "cell_type": "markdown",
   "metadata": {},
   "source": [
    "Binary Search"
   ]
  },
  {
   "cell_type": "code",
   "execution_count": 2,
   "metadata": {},
   "outputs": [
    {
     "name": "stdout",
     "output_type": "stream",
     "text": [
      "Element is found at index 4\n"
     ]
    }
   ],
   "source": [
    "def binary_search(arr, low,high,target):\n",
    "    if low>high:\n",
    "      return -1\n",
    "    mid=(low+high)//2\n",
    "    if arr[mid]==target:\n",
    "       return mid\n",
    "    elif arr[mid]<target:\n",
    "       return binary_search(arr,mid+1,high,target)\n",
    "    else:\n",
    "       return binary_search(arr,low,mid-1,target)\n",
    "    \n",
    "arr=[20,30,49,56,78]\n",
    "target=78   \n",
    "    \n",
    "result=binary_search(arr,0,len(arr)-1,target)\n",
    "if result!=-1:\n",
    "   print ('Element is found at index', result)\n",
    "else:\n",
    "   print('Element not found')\n"
   ]
  },
  {
   "cell_type": "markdown",
   "metadata": {},
   "source": [
    "Bubble sort"
   ]
  },
  {
   "cell_type": "code",
   "execution_count": 3,
   "metadata": {},
   "outputs": [
    {
     "name": "stdout",
     "output_type": "stream",
     "text": [
      "Sorted list is [2, 3, 12, 34, 54, 65, 78]\n"
     ]
    }
   ],
   "source": [
    "arr=[12,34,65,2,3,54,78]\n",
    "\n",
    "n=len(arr)\n",
    "for i in range(n-1):\n",
    "    for j in range (n-i-1):\n",
    "        if arr[j]>arr[j+1]:\n",
    "            arr[j],arr[j+1]=arr[j+1],arr[j]\n",
    "print('Sorted list is', arr)"
   ]
  },
  {
   "cell_type": "markdown",
   "metadata": {},
   "source": [
    "Selection sort"
   ]
  },
  {
   "cell_type": "code",
   "execution_count": 4,
   "metadata": {},
   "outputs": [
    {
     "name": "stdout",
     "output_type": "stream",
     "text": [
      "[5, 52, 37, 21, 12, 24, 12, 94, 66]\n",
      "[5, 12, 37, 21, 52, 24, 12, 94, 66]\n",
      "[5, 12, 12, 21, 52, 24, 37, 94, 66]\n",
      "[5, 12, 12, 21, 52, 24, 37, 94, 66]\n",
      "[5, 12, 12, 21, 24, 52, 37, 94, 66]\n",
      "[5, 12, 12, 21, 24, 37, 52, 94, 66]\n",
      "[5, 12, 12, 21, 24, 37, 52, 94, 66]\n",
      "[5, 12, 12, 21, 24, 37, 52, 66, 94]\n",
      "[5, 12, 12, 21, 24, 37, 52, 66, 94]\n",
      "Sorted array: [5, 12, 12, 21, 24, 37, 52, 66, 94]\n"
     ]
    }
   ],
   "source": [
    "def selection_sort(arr):\n",
    "    n = len(arr)# Traverse through all array elements\n",
    "    for i in range(n):# Find the minimum element in the remaining unsorted array\n",
    "        min_index = i  # Assume the first element is the minimum\n",
    "        for j in range(i + 1, n):# Traverse the array from i+1 to n\n",
    "            if arr[j] < arr[min_index]:  # Find the smallest element\n",
    "                min_index = j# Swap the found minimum element with the first element\n",
    "        \n",
    "        arr[i], arr[min_index] = arr[min_index], arr[i]\n",
    "        print(arr)  # Swap\n",
    "\n",
    "# Example usage\n",
    "arr = [66, 52, 37, 21, 12, 24, 12, 94, 5]\n",
    "selection_sort(arr)\n",
    "print(\"Sorted array:\", arr)\n"
   ]
  },
  {
   "cell_type": "markdown",
   "metadata": {},
   "source": [
    "Insertion sort"
   ]
  },
  {
   "cell_type": "code",
   "execution_count": 5,
   "metadata": {},
   "outputs": [
    {
     "name": "stdout",
     "output_type": "stream",
     "text": [
      "[52, 66, 37, 21, 12, 24, 12, 94, 5]\n",
      "[37, 52, 66, 21, 12, 24, 12, 94, 5]\n",
      "[21, 37, 52, 66, 12, 24, 12, 94, 5]\n",
      "[12, 21, 37, 52, 66, 24, 12, 94, 5]\n",
      "[12, 21, 24, 37, 52, 66, 12, 94, 5]\n",
      "[12, 12, 21, 24, 37, 52, 66, 94, 5]\n",
      "[12, 12, 21, 24, 37, 52, 66, 94, 5]\n",
      "[5, 12, 12, 21, 24, 37, 52, 66, 94]\n",
      "Sorted array: [5, 12, 12, 21, 24, 37, 52, 66, 94]\n"
     ]
    }
   ],
   "source": [
    "my_array = [66, 52, 37, 21, 12, 24, 12, 94, 5]         #insertion sort\n",
    "\n",
    "n = len(my_array)# Traverse through all array elements\n",
    "for i in range(1,n):# Traverse the array from 1 to n\n",
    "    insert_index = i# Move elements of my_array[0..i-1], that are greater than current_value, to one position ahead of their current position\n",
    "    current_value = my_array.pop(i)# Store the current value to be placed at the correct position\n",
    "    for j in range(i-1, -1, -1):# Move elements of my_array[0..i-1], that are greater than current_value, to one position ahead of their current position\n",
    "        if my_array[j] > current_value:# Move elements of my_array[0..i-1], that are greater than current_value, to one position ahead of their current position\n",
    "            insert_index = j# Move elements of my_array[0..i-1], that are greater than current_value, to one position ahead of their current position\n",
    "    my_array.insert(insert_index, current_value)\n",
    "    print(my_array)  # Insert the stored value at the correct position\n",
    "\n",
    "print(\"Sorted array:\", my_array)"
   ]
  },
  {
   "cell_type": "markdown",
   "metadata": {},
   "source": [
    "MERGE SORT"
   ]
  },
  {
   "cell_type": "code",
   "execution_count": 6,
   "metadata": {},
   "outputs": [
    {
     "name": "stdout",
     "output_type": "stream",
     "text": [
      "Sorted Array: [3, 9, 10, 27, 38, 43, 82]\n"
     ]
    }
   ],
   "source": [
    "def merge_sort(arr):\n",
    "    if len(arr) <= 1:  # Base case\n",
    "        return arr\n",
    "    mid = len(arr) // 2  # Find mid\n",
    "    left = merge_sort(arr[:mid])  # Sort left half\n",
    "    right = merge_sort(arr[mid:])  # Sort right half\n",
    "    return merge(left, right)  # Merge two halves\n",
    "\n",
    "def merge(left, right):\n",
    "    result = []\n",
    "    i = j = 0\n",
    "    while i < len(left) and j < len(right):  # Merge two sorted lists\n",
    "        if left[i] < right[j]:\n",
    "            result.append(left[i])\n",
    "            i += 1\n",
    "        else:\n",
    "            result.append(right[j])\n",
    "            j += 1\n",
    "    result.extend(left[i:])  # Add remaining elements\n",
    "    result.extend(right[j:])\n",
    "    return result\n",
    "\n",
    "arr = [38, 27, 43, 3, 9, 82, 10]\n",
    "sorted_arr = merge_sort(arr)\n",
    "print(\"Sorted Array:\", sorted_arr)"
   ]
  },
  {
   "cell_type": "markdown",
   "metadata": {},
   "source": [
    "QUICK SORT"
   ]
  },
  {
   "cell_type": "code",
   "execution_count": 7,
   "metadata": {},
   "outputs": [
    {
     "name": "stdout",
     "output_type": "stream",
     "text": [
      "Sorted array: [5, 12, 12, 21, 24, 37, 52, 66, 94]\n"
     ]
    }
   ],
   "source": [
    "def partition(array, low, high):# This function takes the last element as pivot, places the pivot element at its correct position in the sorted array, and places all smaller (smaller than pivot) to the left of the pivot and all greater elements to the right of the pivot\n",
    "    pivot = array[high]# Index of smaller element\n",
    "    i = low - 1# Traverse through all array elements\n",
    "\n",
    "    for j in range(low, high):# If the current element is smaller than the pivot\n",
    "        if array[j] <= pivot:# Increment index of smaller element\n",
    "            i += 1\n",
    "            array[i], array[j] = array[j], array[i]# Swap\n",
    "\n",
    "    array[i+1], array[high] = array[high], array[i+1]# Swap\n",
    "    return i+1# Return the partitioning index\n",
    "\n",
    "def quicksort(array, low=0, high=None):# The main function that implements QuickSort\n",
    "    if high is None:# Set the default value of high\n",
    "        high = len(array) - 1# Check if the low and high are valid\n",
    "\n",
    "    if low < high:# pi is partitioning index, array[p] is now at right place\n",
    "        pivot_index = partition(array, low, high)# Separately sort elements before partition and after partition\n",
    "        quicksort(array, low, pivot_index-1)# Separately sort elements before partition and after partition\n",
    "        quicksort(array, pivot_index+1, high)# Driver code to test above\n",
    "\n",
    "my_array = [66, 52, 37, 21, 12, 24, 12, 94, 5] \n",
    "quicksort(my_array)\n",
    "print(\"Sorted array:\", my_array)\n"
   ]
  }
 ],
 "metadata": {
  "kernelspec": {
   "display_name": "Python 3",
   "language": "python",
   "name": "python3"
  },
  "language_info": {
   "codemirror_mode": {
    "name": "ipython",
    "version": 3
   },
   "file_extension": ".py",
   "mimetype": "text/x-python",
   "name": "python",
   "nbconvert_exporter": "python",
   "pygments_lexer": "ipython3",
   "version": "3.12.2"
  }
 },
 "nbformat": 4,
 "nbformat_minor": 2
}
