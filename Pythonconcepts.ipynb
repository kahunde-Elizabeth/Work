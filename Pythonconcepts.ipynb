{
 "cells": [
  {
   "cell_type": "markdown",
   "metadata": {},
   "source": [
    "KAHUNDE ELIZABETH B30293 S24B38/003"
   ]
  },
  {
   "cell_type": "markdown",
   "metadata": {},
   "source": [
    "QN1 VARIABLES AND DATATYPES\n",
    "Integers are positive or negative numbers without the decimal places used when coding\n",
    "\n",
    "Floats are  positive or negative numbers including decimal places used when coding\n",
    "\n",
    "Strings are a sequence of characters enclosed in quotation marks\n",
    "\n",
    "Boolean are a representation of two values true of false."
   ]
  },
  {
   "cell_type": "code",
   "execution_count": 1,
   "metadata": {},
   "outputs": [
    {
     "name": "stdout",
     "output_type": "stream",
     "text": [
      "the sum is 5.0 and the product is 6.0\n"
     ]
    }
   ],
   "source": [
    "num_1=float(input(\"What is the first number A:\"))\n",
    "num_2=float(input(\"what is the second number B:\"))\n",
    "sum= num_1+num_2\n",
    "product= num_1*num_2\n",
    "print(f\"the sum is {sum} and the product is {product}\")\n"
   ]
  },
  {
   "cell_type": "markdown",
   "metadata": {},
   "source": [
    "In the code above we are using floats and as you can see the output gives us a decimal place."
   ]
  },
  {
   "cell_type": "markdown",
   "metadata": {},
   "source": [
    "Variable assignment is like putting an equal sign after a word to act as a memory locater.\n",
    "\n",
    "Type checking is basically checking the type of variable used"
   ]
  },
  {
   "cell_type": "code",
   "execution_count": 2,
   "metadata": {},
   "outputs": [
    {
     "name": "stdout",
     "output_type": "stream",
     "text": [
      "<class 'int'>\n",
      "<class 'float'>\n",
      "<class 'str'>\n",
      "<class 'bool'>\n"
     ]
    }
   ],
   "source": [
    "# Variable assignments\n",
    "x = 10         # Integer\n",
    "y = 3.14       # Float\n",
    "name = \"Alice\" # String\n",
    "is_raining = True  # Boolean\n",
    "\n",
    "# Type checking using type()\n",
    "print(type(x))        \n",
    "print(type(y))     \n",
    "print(type(name))     \n",
    "print(type(is_raining)) \n"
   ]
  },
  {
   "cell_type": "markdown",
   "metadata": {},
   "source": [
    "In the code above  we first assigned the variables and checked the type using the code type()"
   ]
  },
  {
   "cell_type": "markdown",
   "metadata": {},
   "source": [
    "QN2 CONTROL FLOW\n",
    "if statement: This checks a condition and runs the code inside it if the condition is True.\n",
    "\n",
    "elif statement (short for \"else if\"): If the condition in the if statement is False, the elif checks another condition. You can have multiple elif statements to check different conditions.\n",
    "\n",
    "else statement: If none of the preceding if or elif conditions are True, the else block is executed.\n",
    "\n"
   ]
  },
  {
   "cell_type": "markdown",
   "metadata": {},
   "source": [
    "Determining if the number is positive or negative"
   ]
  },
  {
   "cell_type": "code",
   "execution_count": 4,
   "metadata": {},
   "outputs": [
    {
     "name": "stdout",
     "output_type": "stream",
     "text": [
      "The number 2.0 is positive.\n"
     ]
    }
   ],
   "source": [
    "number = float(input(\"Enter a number: \"))\n",
    "\n",
    "# Determine whether the number is positive, negative, or zero\n",
    "if number > 0:\n",
    "    print(f\"The number {number} is positive.\")\n",
    "elif number < 0:\n",
    "    print(f\"The number {number} is negative.\")\n",
    "else:\n",
    "    print(f\"The number {number} is zero.\")"
   ]
  },
  {
   "cell_type": "markdown",
   "metadata": {},
   "source": [
    "The program first takes input from the user and converts it into a float (in case the user enters a decimal).\n",
    "The if statement checks if the number is greater than 0 (positive).\n",
    "The elif statement checks if the number is less than 0 (negative).\n",
    "If neither condition is true, the else statement assumes the number is zero.\n"
   ]
  },
  {
   "cell_type": "markdown",
   "metadata": {},
   "source": [
    "QN3 LOOPS\n",
    "\n",
    "The for loop typically iterates a fixed number of times or over a collection.\n",
    "The for loop is more concise and is often preferred for iterating over data structures or ranges.\n",
    "loop continues running as long as a condition remains True.\n",
    "\n",
    "\n",
    "The while It directly iterates over items in a collection or a sequence of numbers.\n",
    "The loop runs as long as the condition evaluates to True.\n",
    "The while loop gives you more flexibility but requires careful handling of the loop condition to avoid infinite loops.\n"
   ]
  },
  {
   "cell_type": "code",
   "execution_count": 5,
   "metadata": {},
   "outputs": [
    {
     "name": "stdout",
     "output_type": "stream",
     "text": [
      "1\n",
      "2\n",
      "3\n",
      "4\n",
      "5\n",
      "6\n",
      "7\n",
      "8\n",
      "9\n",
      "10\n"
     ]
    }
   ],
   "source": [
    "# Using the for loop\n",
    "\n",
    "for i in range(1, 11):  # range(1, 11) generates numbers from 1 to 10\n",
    "    print(i)"
   ]
  },
  {
   "cell_type": "code",
   "execution_count": 6,
   "metadata": {},
   "outputs": [
    {
     "name": "stdout",
     "output_type": "stream",
     "text": [
      "1\n",
      "2\n",
      "3\n",
      "4\n",
      "5\n",
      "6\n",
      "7\n",
      "8\n",
      "9\n",
      "10\n"
     ]
    }
   ],
   "source": [
    "# Using the for loop\n",
    "i = 1\n",
    "while i <= 10:  # Continue as long as i is less than or equal to 10\n",
    "    print(i)\n",
    "    i += 1  # Increment i to avoid an infinite loop"
   ]
  },
  {
   "cell_type": "markdown",
   "metadata": {},
   "source": [
    "QN4 LOOP CONTROL STATEMENTS\n",
    "Break: Exits the loop entirely when a condition is met.\n",
    "\n",
    "Continue: Skips the current iteration and continues with the next iteration of the loop.\n",
    "\n",
    "Pass: Acts as a placeholder, doing nothing but satisfying the syntax requirements.\n",
    "It is typically used when you define a function where the code is required syntactically, but you want to leave it empty for now."
   ]
  },
  {
   "cell_type": "code",
   "execution_count": 7,
   "metadata": {},
   "outputs": [
    {
     "name": "stdout",
     "output_type": "stream",
     "text": [
      "1\n",
      "2\n",
      "3\n",
      "4\n",
      "5\n"
     ]
    }
   ],
   "source": [
    "# Using break to exit the loop\n",
    "for i in range(1, 11):\n",
    "    if i == 6:\n",
    "        break\n",
    "    print(i)\n"
   ]
  },
  {
   "cell_type": "markdown",
   "metadata": {},
   "source": [
    "As we can see the loop stops when i=6"
   ]
  },
  {
   "cell_type": "code",
   "execution_count": 8,
   "metadata": {},
   "outputs": [
    {
     "name": "stdout",
     "output_type": "stream",
     "text": [
      "1\n",
      "2\n",
      "3\n",
      "4\n",
      "6\n",
      "7\n",
      "8\n",
      "9\n",
      "10\n"
     ]
    }
   ],
   "source": [
    "# Using continue to skip specific iteration\n",
    "for i in range(1, 11):\n",
    "    if i == 5:\n",
    "        continue\n",
    "    print(i)\n"
   ]
  },
  {
   "cell_type": "markdown",
   "metadata": {},
   "source": [
    "In the code above the loop skips 5 and continues"
   ]
  },
  {
   "cell_type": "code",
   "execution_count": 9,
   "metadata": {},
   "outputs": [
    {
     "name": "stdout",
     "output_type": "stream",
     "text": [
      "1\n",
      "2\n",
      "4\n",
      "5\n"
     ]
    }
   ],
   "source": [
    "# Using pass in a loop (do nothing)\n",
    "for i in range(1, 6):\n",
    "    if i == 3:\n",
    "        pass  # No action, just a placeholder\n",
    "    else:\n",
    "        print(i)"
   ]
  },
  {
   "cell_type": "markdown",
   "metadata": {},
   "source": [
    "SECTION 2\n",
    "QN1 FUNCTION BASICS\n",
    "\n",
    "A function is defined using the def keyword, followed by the function name and parentheses. The function may take parameters (inputs) inside the parentheses, and it optionally returns a value using the return keyword.\n",
    "\n"
   ]
  },
  {
   "cell_type": "code",
   "execution_count": 10,
   "metadata": {},
   "outputs": [
    {
     "name": "stdout",
     "output_type": "stream",
     "text": [
      "The sum is: 8\n"
     ]
    }
   ],
   "source": [
    "# Function definition\n",
    "def add_numbers(a, b):\n",
    "    result = a + b  # Add the two numbers\n",
    "    return result  # Return the sum\n",
    "\n",
    "# Function call\n",
    "sum_result = add_numbers(5, 3)  # Calling the function with 5 and 3 as arguments\n",
    "print(f\"The sum is: {sum_result}\")  # Output: The sum is: 8\n"
   ]
  },
  {
   "cell_type": "markdown",
   "metadata": {},
   "source": [
    "Def add_numbers(a, b): defines a function named add_numbers that takes two parameters, a and b.\n",
    "Inside the function, we add the values of a and b, and store the result in the variable result.\n",
    "The return statement sends the result back to the place where the function was called.\n",
    "Calling the Function:\n",
    "\n",
    "We call add_numbers(5, 3), passing 5 and 3 as arguments for a and b.\n",
    "The function computes the sum and returns the value, which is stored in the variable sum_result.\n",
    "Finally, we print the result using print()."
   ]
  },
  {
   "cell_type": "markdown",
   "metadata": {},
   "source": [
    "QN2 DEFAULT AND KEYWORD ARGUMENTS\n",
    "\n",
    "Default arguments are arguments that have a pre-defined value in the function definition. These values are used if the caller does not provide specific values for these parameters when calling the function.\n",
    "\n",
    "Keyword arguments allow you to specify arguments by their names (i.e., the parameter name) when calling the function."
   ]
  },
  {
   "cell_type": "code",
   "execution_count": null,
   "metadata": {},
   "outputs": [],
   "source": [
    "# FOR DEFAULT ARGUMENTS\n",
    "def maximum_number(a,b,c,d):\n",
    "    return max(a,b,c,d)\n",
    "print(maximum_number(1,2,3,4))\n"
   ]
  },
  {
   "cell_type": "code",
   "execution_count": 11,
   "metadata": {},
   "outputs": [
    {
     "name": "stdout",
     "output_type": "stream",
     "text": [
      "Hello Guest, you are 30 years old.\n",
      "Hello Alice, you are 30 years old.\n",
      "Hello Bob, you are 25 years old.\n",
      "Hello Charlie, you are 40 years old.\n"
     ]
    }
   ],
   "source": [
    "def greet(name=\"Guest\", age=30):\n",
    "    print(f\"Hello {name}, you are {age} years old.\")\n",
    "\n",
    "# Calling the function with default arguments\n",
    "greet()  # No arguments passed, will use the default values\n",
    "\n",
    "# Calling the function with one argument (name)\n",
    "greet(\"Alice\")  # Overrides the default value of 'name'\n",
    "\n",
    "# Calling the function with both arguments\n",
    "greet(\"Bob\", 25)  # Overrides both 'name' and 'age' default values\n",
    "\n",
    "# Calling the function using keyword arguments\n",
    "greet(age=40, name=\"Charlie\")  # Overrides both values using keyword arguments"
   ]
  },
  {
   "cell_type": "markdown",
   "metadata": {},
   "source": [
    "QN3 Lamda functions\n",
    "A lambda function in Python is a small, anonymous function defined using the lambda keyword. Unlike regular functions defined with def, a lambda function is typically used for short, simple operations where a full function definition might be unnecessary."
   ]
  },
  {
   "cell_type": "markdown",
   "metadata": {},
   "source": [
    "QN4 Scope of variables \n",
    "Local Variables: Defined inside a function and can only be accessed within that function.\n",
    "Global Variables: Defined outside all functions and are accessible from any part of the program. \n",
    "\n",
    "Nonlocal Variables: Used to refer to variables in the nearest enclosing scope (other than the global scope) and are modified with the nonlocal keyword in nested functions.\n"
   ]
  },
  {
   "cell_type": "code",
   "execution_count": 12,
   "metadata": {},
   "outputs": [
    {
     "name": "stdout",
     "output_type": "stream",
     "text": [
      "Outer function, x (nonlocal): 20\n",
      "Inner function, x (nonlocal): 30\n",
      "Outer function after inner function, x: 30\n",
      "Global variable x: 10\n"
     ]
    }
   ],
   "source": [
    "# Global variable\n",
    "x = 10\n",
    "\n",
    "def outer_function():\n",
    "    # Nonlocal variable\n",
    "    x = 20  # This will be treated as a local variable in outer_function\n",
    "    print(\"Outer function, x (nonlocal):\", x)\n",
    "    \n",
    "    def inner_function():\n",
    "        # Nonlocal declaration to modify 'x' in outer_function\n",
    "        nonlocal x  # Refers to 'x' in outer_function, not global or local here\n",
    "        x = 30  # Modifies the nonlocal 'x'\n",
    "        print(\"Inner function, x (nonlocal):\", x)\n",
    "\n",
    "    inner_function()  # Call inner function after modification\n",
    "\n",
    "    # After inner_function has modified 'x'\n",
    "    print(\"Outer function after inner function, x:\", x)\n",
    "\n",
    "# Calling the outer function\n",
    "outer_function()\n",
    "\n",
    "# Global variable x remains unchanged because it was not modified in the functions\n",
    "print(\"Global variable x:\", x)\n"
   ]
  },
  {
   "cell_type": "markdown",
   "metadata": {},
   "source": [
    "Explanation:\n",
    "Global Variable:\n",
    "\n",
    "The variable x = 10 is a global variable. It is defined outside of any function, so it can be accessed throughout the program.\n",
    "In this case, we don’t modify the global x inside the functions.\n",
    "\n",
    "Local Variable in outer_function:\n",
    "\n",
    "Inside outer_function, there is another variable x = 20. This is a local variable to outer_function, so it can only be accessed inside that function.\n",
    "When inner_function() is called, it first prints the local value of x from outer_function, which is 20.\n",
    "Nonlocal Variable in inner_function:\n",
    "\n",
    "Inside inner_function, we use the nonlocal keyword to refer to the x from outer_function. This allows the inner function to modify the value of x in the outer function's scope.\n",
    "The modification of x in inner_function changes it to 30, and this change is reflected when we print x in outer_function.\n"
   ]
  },
  {
   "cell_type": "markdown",
   "metadata": {},
   "source": [
    "SECTION 3 PYTHON DATA STRUCTURES\n",
    "QN1 LISTS\n",
    "A list in Python is an ordered collection of items, which can be of any type, and is mutable (i.e., you can modify it after creation).\n",
    "List slicing allows you to extract a portion (or \"slice\") of a list based on a start and end index. \n",
    "Append()  Adds a new item to the end of the list.\n",
    "pop()  Removes and returns the item at the specified index. If no index is provided, it removes and returns the last item in the list.\n",
    "remove() Removes the first occurrence of the specified value from the list.\n",
    "Sort() arranges the values in alphabetical order or ascending order.\n"
   ]
  },
  {
   "cell_type": "code",
   "execution_count": 13,
   "metadata": {},
   "outputs": [
    {
     "name": "stdout",
     "output_type": "stream",
     "text": [
      "After append: [1, 2, 3, 4, 5, 6]\n",
      "After pop: [1, 2, 3, 4, 5]\n",
      "Popped item: 6\n",
      "After pop at index 2: [1, 2, 4, 5]\n",
      "Popped item at index 2: 3\n",
      "After remove: [1, 2, 5]\n"
     ]
    }
   ],
   "source": [
    "# Create an initial list\n",
    "my_list = [1, 2, 3, 4, 5]\n",
    "\n",
    "# Using append() to add an element at the end of the list\n",
    "my_list.append(6)\n",
    "print(\"After append:\", my_list)  # Output: [1, 2, 3, 4, 5, 6]\n",
    "\n",
    "# Using pop() to remove and return the last element of the list\n",
    "removed_item = my_list.pop()\n",
    "print(\"After pop:\", my_list)  # Output: [1, 2, 3, 4, 5]\n",
    "print(\"Popped item:\", removed_item)  # Output: 6\n",
    "\n",
    "# Using pop() to remove an element at a specific index\n",
    "removed_item_at_index = my_list.pop(2)\n",
    "print(\"After pop at index 2:\", my_list)  # Output: [1, 2, 4, 5]\n",
    "print(\"Popped item at index 2:\", removed_item_at_index)  # Output: 3\n",
    "\n",
    "# Using remove() to remove a specific value from the list\n",
    "my_list.remove(4)\n",
    "print(\"After remove:\", my_list)  # Output: [1, 2, 5]\n"
   ]
  },
  {
   "cell_type": "markdown",
   "metadata": {},
   "source": [
    "QN2 DICTIONARIES\n",
    "A dictionary in Python is a collection of key-value pairs. It is unordered, mutable, and indexed by keys.\n",
    "One can create a dictionary using curly braces {} and specifying key-value pairs separated by a colon :\n"
   ]
  },
  {
   "cell_type": "code",
   "execution_count": 14,
   "metadata": {},
   "outputs": [
    {
     "name": "stdout",
     "output_type": "stream",
     "text": [
      "Keys: dict_keys(['name', 'age', 'city'])\n",
      "Values: dict_values(['Alice', 25, 'New York'])\n",
      "Items: dict_items([('name', 'Alice'), ('age', 25), ('city', 'New York')])\n"
     ]
    }
   ],
   "source": [
    "# Creating a dictionary\n",
    "my_dict = {'name': 'Alice', 'age': 25, 'city': 'New York'}\n",
    "\n",
    "# Using keys() to get the keys\n",
    "keys = my_dict.keys()\n",
    "print(\"Keys:\", keys)  # Output: Keys: dict_keys(['name', 'age', 'city'])\n",
    "# Using values() to get the values\n",
    "values = my_dict.values()\n",
    "print(\"Values:\", values)  # Output: Values: dict_values(['Alice', 25, 'New York'])\n",
    "\n",
    "#Using items() to get the items\n",
    "items = my_dict.items()\n",
    "print(\"Items:\", items)  # Output: Items: dict_items([('name', 'Alice'), ('age', 25), ('city', 'New York')])\n"
   ]
  },
  {
   "cell_type": "markdown",
   "metadata": {},
   "source": [
    "A set in Python is an unordered collection of unique elements. Sets are mutable, meaning you can add or remove items, but they do not allow duplicate values.\n",
    "\n",
    "Union of Sets:\n",
    "The union of two sets combines all elements from both sets, without duplicates. You can use the / operator or the union() method.\n",
    "\n",
    "Intersection of Sets:\n",
    "The intersection of two sets finds the elements that are common in both sets. You can use the & operator or the intersection() method.\n",
    "\n",
    "The difference of two sets finds the elements that are in the first set but not in the second set. You can use the - operator or the difference() method."
   ]
  },
  {
   "cell_type": "code",
   "execution_count": 15,
   "metadata": {},
   "outputs": [
    {
     "name": "stdout",
     "output_type": "stream",
     "text": [
      "Union of set1 and set2: {1, 2, 3, 4, 5, 6}\n",
      "Union using union() method: {1, 2, 3, 4, 5, 6}\n"
     ]
    }
   ],
   "source": [
    "# Create two sets\n",
    "set1 = {1, 2, 3, 4}\n",
    "set2 = {3, 4, 5, 6}\n",
    "\n",
    "# Union using the '|' operator\n",
    "union_result = set1 | set2\n",
    "print(\"Union of set1 and set2:\", union_result)  # Output: {1, 2, 3, 4, 5, 6}\n",
    "\n",
    "# Union using the union() method\n",
    "union_result_method = set1.union(set2)\n",
    "print(\"Union using union() method:\", union_result_method)  # Output: {1, 2, 3, 4, 5, 6}\n"
   ]
  },
  {
   "cell_type": "code",
   "execution_count": 16,
   "metadata": {},
   "outputs": [
    {
     "name": "stdout",
     "output_type": "stream",
     "text": [
      "Intersection of set1 and set2: {3, 4}\n",
      "Intersection using intersection() method: {3, 4}\n"
     ]
    }
   ],
   "source": [
    "# Create two sets\n",
    "set1 = {1, 2, 3, 4}\n",
    "set2 = {3, 4, 5, 6}\n",
    "\n",
    "# Intersection using the '&' operator\n",
    "intersection_result = set1 & set2\n",
    "print(\"Intersection of set1 and set2:\", intersection_result)  # Output: {3, 4}\n",
    "\n",
    "# Intersection using the intersection() method\n",
    "intersection_result_method = set1.intersection(set2)\n",
    "print(\"Intersection using intersection() method:\", intersection_result_method)  # Output: {3, 4}\n"
   ]
  },
  {
   "cell_type": "code",
   "execution_count": 17,
   "metadata": {},
   "outputs": [
    {
     "name": "stdout",
     "output_type": "stream",
     "text": [
      "Difference of set1 and set2: {1, 2}\n",
      "Difference using difference() method: {1, 2}\n"
     ]
    }
   ],
   "source": [
    "# Create two sets\n",
    "set1 = {1, 2, 3, 4}\n",
    "set2 = {3, 4, 5, 6}\n",
    "\n",
    "# Difference using the '-' operator\n",
    "difference_result = set1 - set2\n",
    "print(\"Difference of set1 and set2:\", difference_result)  # Output: {1, 2}\n",
    "\n",
    "# Difference using the difference() method\n",
    "difference_result_method = set1.difference(set2)\n",
    "print(\"Difference using difference() method:\", difference_result_method)  # Output: {1, 2}\n"
   ]
  },
  {
   "cell_type": "markdown",
   "metadata": {},
   "source": [
    "A tuple in Python is a collection of ordered elements. Tuples are similar to lists, but they are immutable (i.e., once created, you cannot modify them). "
   ]
  },
  {
   "cell_type": "code",
   "execution_count": 18,
   "metadata": {},
   "outputs": [
    {
     "name": "stdout",
     "output_type": "stream",
     "text": [
      "(1, 2, 3, 4, 5)\n",
      "(1, 'hello', 3.14, True)\n",
      "(5,)\n"
     ]
    }
   ],
   "source": [
    "# Creating a tuple\n",
    "my_tuple = (1, 2, 3, 4, 5)\n",
    "print(my_tuple)  # Output: (1, 2, 3, 4, 5)\n",
    "\n",
    "# Creating a tuple with mixed data types\n",
    "mixed_tuple = (1, 'hello', 3.14, True)\n",
    "print(mixed_tuple)  # Output: (1, 'hello', 3.14, True)\n",
    "\n",
    "# Creating a tuple with a single element (note the trailing comma)\n",
    "single_element_tuple = (5,)\n",
    "print(single_element_tuple)  # Output: (5,)\n"
   ]
  },
  {
   "cell_type": "markdown",
   "metadata": {},
   "source": [
    "A string in Python is a sequence of characters enclosed in single quotes ('), double quotes (\"), or triple quotes (''' or \"\"\") for multi-line strings. Strings are immutable in Python, which means you cannot change the value of a string after it has been created.\n",
    "\n",
    "Split() The split() method splits a string into a list of substrings based on a delimiter. If no delimiter is specified, it splits by any whitespace.\n",
    "\n",
    "Join() The join() method is used to join elements of a sequence (e.g., list, tuple) into a single string. You specify the separator that should appear between each element.\n",
    "\n",
    "Replace() Method\n",
    "The replace() method replaces a specified substring with another substring.\n"
   ]
  },
  {
   "cell_type": "code",
   "execution_count": 19,
   "metadata": {},
   "outputs": [
    {
     "name": "stdout",
     "output_type": "stream",
     "text": [
      "  hello, world!  \n",
      "  HELLO, WORLD!  \n",
      "Hello, World!\n",
      "9\n",
      "True\n",
      "True\n"
     ]
    }
   ],
   "source": [
    "text = \"  Hello, World!  \"\n",
    "\n",
    "# Converting to lowercase\n",
    "print(text.lower())  # Output: \"  hello, world!  \"\n",
    "\n",
    "# Converting to uppercase\n",
    "print(text.upper())  # Output: \"  HELLO, WORLD!  \"\n",
    "\n",
    "# Removing leading and trailing spaces\n",
    "print(text.strip())  # Output: \"Hello, World!\"\n",
    "\n",
    "# Finding a substring\n",
    "print(text.find(\"World\"))  # Output: 7 (index of \"World\")\n",
    "\n",
    "# Checking start and end of a string\n",
    "print(text.startswith(\"  Hello\"))  # Output: True\n",
    "print(text.endswith(\"World!  \"))  # Output: True\n"
   ]
  },
  {
   "cell_type": "markdown",
   "metadata": {},
   "source": [
    "Section 4 Python Built-in Functions\n",
    "len() Function\n",
    "The len() function returns the number of items (elements) in an object, such as a string, list, or tuple.\n",
    "\n",
    "sum() Function\n",
    "The sum() function returns the sum of all elements in an iterable, such as a list or tuple.\n",
    "\n",
    "max() Function\n",
    "The max() function returns the largest element in an iterable.\n"
   ]
  },
  {
   "cell_type": "code",
   "execution_count": 21,
   "metadata": {},
   "outputs": [
    {
     "name": "stdout",
     "output_type": "stream",
     "text": [
      "Length of list: 5\n",
      "Length of tuple: 4\n",
      "Max of list: 50\n",
      "Max of tuple: 20\n",
      "Min of list: 10\n",
      "Min of tuple: 5\n"
     ]
    }
   ],
   "source": [
    "# Example list and tuple\n",
    "my_list = [10, 20, 30, 40, 50]\n",
    "my_tuple = (5, 10, 15, 20)\n",
    "\n",
    "# len() example\n",
    "print(\"Length of list:\", len(my_list)) \n",
    "print(\"Length of tuple:\", len(my_tuple))  \n",
    "\n",
    "# max() example\n",
    "print(\"Max of list:\", max(my_list)) \n",
    "print(\"Max of tuple:\", max(my_tuple))  \n",
    "\n",
    "# min() example\n",
    "print(\"Min of list:\", min(my_list))  \n",
    "print(\"Min of tuple:\", min(my_tuple))  \n"
   ]
  }
 ],
 "metadata": {
  "kernelspec": {
   "display_name": "Python 3",
   "language": "python",
   "name": "python3"
  },
  "language_info": {
   "codemirror_mode": {
    "name": "ipython",
    "version": 3
   },
   "file_extension": ".py",
   "mimetype": "text/x-python",
   "name": "python",
   "nbconvert_exporter": "python",
   "pygments_lexer": "ipython3",
   "version": "3.12.8"
  }
 },
 "nbformat": 4,
 "nbformat_minor": 2
}
